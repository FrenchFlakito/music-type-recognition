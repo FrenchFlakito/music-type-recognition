{
 "cells": [
  {
   "cell_type": "markdown",
   "metadata": {},
   "source": [
    "# Music type recognition"
   ]
  },
  {
   "cell_type": "markdown",
   "metadata": {},
   "source": [
    "In this notebook, we will use the [Music Beat](https://www.kaggle.com/insiyeah/musicfeatures) data set to experiment with the Support Vector Machine classification algorithm."
   ]
  },
  {
   "cell_type": "code",
   "execution_count": 1,
   "metadata": {},
   "outputs": [],
   "source": [
    "# boilerplate imports\n",
    "\n",
    "# data exploration\n",
    "import pandas as pd\n",
    "import numpy as np\n",
    "# visualization\n",
    "import matplotlib.pyplot as plt\n",
    "import seaborn as sns\n",
    "%matplotlib inline "
   ]
  },
  {
   "cell_type": "markdown",
   "metadata": {},
   "source": [
    "**Important**\n",
    "\n",
    "There are 2 datasets:\n",
    "- The first is for binary classification\n",
    "- The second is for multiclass classification (10 classes)."
   ]
  },
  {
   "cell_type": "markdown",
   "metadata": {},
   "source": [
    "# Binary classification"
   ]
  },
  {
   "cell_type": "code",
   "execution_count": 2,
   "metadata": {},
   "outputs": [
    {
     "name": "stdout",
     "output_type": "stream",
     "text": [
      "(200, 29)\n"
     ]
    },
    {
     "data": {
      "text/html": [
       "<div>\n",
       "<style scoped>\n",
       "    .dataframe tbody tr th:only-of-type {\n",
       "        vertical-align: middle;\n",
       "    }\n",
       "\n",
       "    .dataframe tbody tr th {\n",
       "        vertical-align: top;\n",
       "    }\n",
       "\n",
       "    .dataframe thead th {\n",
       "        text-align: right;\n",
       "    }\n",
       "</style>\n",
       "<table border=\"1\" class=\"dataframe\">\n",
       "  <thead>\n",
       "    <tr style=\"text-align: right;\">\n",
       "      <th></th>\n",
       "      <th>tempo</th>\n",
       "      <th>beats</th>\n",
       "      <th>chroma_stft</th>\n",
       "      <th>rmse</th>\n",
       "      <th>spectral_centroid</th>\n",
       "      <th>spectral_bandwidth</th>\n",
       "      <th>rolloff</th>\n",
       "      <th>zero_crossing_rate</th>\n",
       "      <th>mfcc1</th>\n",
       "      <th>mfcc2</th>\n",
       "      <th>...</th>\n",
       "      <th>mfcc12</th>\n",
       "      <th>mfcc13</th>\n",
       "      <th>mfcc14</th>\n",
       "      <th>mfcc15</th>\n",
       "      <th>mfcc16</th>\n",
       "      <th>mfcc17</th>\n",
       "      <th>mfcc18</th>\n",
       "      <th>mfcc19</th>\n",
       "      <th>mfcc20</th>\n",
       "      <th>label</th>\n",
       "    </tr>\n",
       "    <tr>\n",
       "      <th>filename</th>\n",
       "      <th></th>\n",
       "      <th></th>\n",
       "      <th></th>\n",
       "      <th></th>\n",
       "      <th></th>\n",
       "      <th></th>\n",
       "      <th></th>\n",
       "      <th></th>\n",
       "      <th></th>\n",
       "      <th></th>\n",
       "      <th></th>\n",
       "      <th></th>\n",
       "      <th></th>\n",
       "      <th></th>\n",
       "      <th></th>\n",
       "      <th></th>\n",
       "      <th></th>\n",
       "      <th></th>\n",
       "      <th></th>\n",
       "      <th></th>\n",
       "      <th></th>\n",
       "    </tr>\n",
       "  </thead>\n",
       "  <tbody>\n",
       "    <tr>\n",
       "      <th>pop.00024.au</th>\n",
       "      <td>117.453835</td>\n",
       "      <td>57</td>\n",
       "      <td>0.410990</td>\n",
       "      <td>0.207584</td>\n",
       "      <td>3301.781785</td>\n",
       "      <td>3175.656592</td>\n",
       "      <td>7302.597509</td>\n",
       "      <td>0.144527</td>\n",
       "      <td>-40.802069</td>\n",
       "      <td>61.522054</td>\n",
       "      <td>...</td>\n",
       "      <td>-0.568772</td>\n",
       "      <td>0.552448</td>\n",
       "      <td>-1.981371</td>\n",
       "      <td>1.915755</td>\n",
       "      <td>0.076505</td>\n",
       "      <td>-1.270496</td>\n",
       "      <td>1.233082</td>\n",
       "      <td>1.493700</td>\n",
       "      <td>0.949931</td>\n",
       "      <td>1</td>\n",
       "    </tr>\n",
       "    <tr>\n",
       "      <th>pop.00099.au</th>\n",
       "      <td>78.302557</td>\n",
       "      <td>38</td>\n",
       "      <td>0.360462</td>\n",
       "      <td>0.138195</td>\n",
       "      <td>2765.747194</td>\n",
       "      <td>3222.713605</td>\n",
       "      <td>6873.391771</td>\n",
       "      <td>0.096015</td>\n",
       "      <td>-119.320605</td>\n",
       "      <td>85.941142</td>\n",
       "      <td>...</td>\n",
       "      <td>1.566938</td>\n",
       "      <td>-2.932391</td>\n",
       "      <td>-1.609138</td>\n",
       "      <td>-0.200545</td>\n",
       "      <td>-2.429376</td>\n",
       "      <td>1.207988</td>\n",
       "      <td>5.848729</td>\n",
       "      <td>1.609469</td>\n",
       "      <td>7.580263</td>\n",
       "      <td>1</td>\n",
       "    </tr>\n",
       "    <tr>\n",
       "      <th>pop.00009.au</th>\n",
       "      <td>107.666016</td>\n",
       "      <td>50</td>\n",
       "      <td>0.454810</td>\n",
       "      <td>0.159711</td>\n",
       "      <td>3279.877315</td>\n",
       "      <td>3026.391118</td>\n",
       "      <td>6953.099622</td>\n",
       "      <td>0.172819</td>\n",
       "      <td>-35.277026</td>\n",
       "      <td>61.242109</td>\n",
       "      <td>...</td>\n",
       "      <td>-0.518891</td>\n",
       "      <td>0.212918</td>\n",
       "      <td>-1.294660</td>\n",
       "      <td>-0.105626</td>\n",
       "      <td>-1.245879</td>\n",
       "      <td>-2.528455</td>\n",
       "      <td>0.571032</td>\n",
       "      <td>1.569434</td>\n",
       "      <td>-1.724873</td>\n",
       "      <td>1</td>\n",
       "    </tr>\n",
       "    <tr>\n",
       "      <th>pop.00078.au</th>\n",
       "      <td>103.359375</td>\n",
       "      <td>52</td>\n",
       "      <td>0.454698</td>\n",
       "      <td>0.223419</td>\n",
       "      <td>3124.176350</td>\n",
       "      <td>2970.320532</td>\n",
       "      <td>6618.134981</td>\n",
       "      <td>0.142721</td>\n",
       "      <td>-42.757179</td>\n",
       "      <td>62.799474</td>\n",
       "      <td>...</td>\n",
       "      <td>3.020176</td>\n",
       "      <td>-1.242321</td>\n",
       "      <td>-3.524069</td>\n",
       "      <td>-0.325165</td>\n",
       "      <td>-1.443294</td>\n",
       "      <td>-1.864617</td>\n",
       "      <td>-0.031307</td>\n",
       "      <td>-0.729631</td>\n",
       "      <td>-0.987611</td>\n",
       "      <td>1</td>\n",
       "    </tr>\n",
       "    <tr>\n",
       "      <th>pop.00037.au</th>\n",
       "      <td>103.359375</td>\n",
       "      <td>51</td>\n",
       "      <td>0.451668</td>\n",
       "      <td>0.240985</td>\n",
       "      <td>3236.413205</td>\n",
       "      <td>2953.596262</td>\n",
       "      <td>6698.776160</td>\n",
       "      <td>0.164825</td>\n",
       "      <td>4.821123</td>\n",
       "      <td>64.495215</td>\n",
       "      <td>...</td>\n",
       "      <td>1.753352</td>\n",
       "      <td>3.336132</td>\n",
       "      <td>2.352307</td>\n",
       "      <td>1.428845</td>\n",
       "      <td>-0.604926</td>\n",
       "      <td>-2.185691</td>\n",
       "      <td>-1.602394</td>\n",
       "      <td>-0.612146</td>\n",
       "      <td>-4.050126</td>\n",
       "      <td>1</td>\n",
       "    </tr>\n",
       "  </tbody>\n",
       "</table>\n",
       "<p>5 rows × 29 columns</p>\n",
       "</div>"
      ],
      "text/plain": [
       "                   tempo  beats  chroma_stft      rmse  spectral_centroid  \\\n",
       "filename                                                                    \n",
       "pop.00024.au  117.453835     57     0.410990  0.207584        3301.781785   \n",
       "pop.00099.au   78.302557     38     0.360462  0.138195        2765.747194   \n",
       "pop.00009.au  107.666016     50     0.454810  0.159711        3279.877315   \n",
       "pop.00078.au  103.359375     52     0.454698  0.223419        3124.176350   \n",
       "pop.00037.au  103.359375     51     0.451668  0.240985        3236.413205   \n",
       "\n",
       "              spectral_bandwidth      rolloff  zero_crossing_rate       mfcc1  \\\n",
       "filename                                                                        \n",
       "pop.00024.au         3175.656592  7302.597509            0.144527  -40.802069   \n",
       "pop.00099.au         3222.713605  6873.391771            0.096015 -119.320605   \n",
       "pop.00009.au         3026.391118  6953.099622            0.172819  -35.277026   \n",
       "pop.00078.au         2970.320532  6618.134981            0.142721  -42.757179   \n",
       "pop.00037.au         2953.596262  6698.776160            0.164825    4.821123   \n",
       "\n",
       "                  mfcc2  ...    mfcc12    mfcc13    mfcc14    mfcc15  \\\n",
       "filename                 ...                                           \n",
       "pop.00024.au  61.522054  ... -0.568772  0.552448 -1.981371  1.915755   \n",
       "pop.00099.au  85.941142  ...  1.566938 -2.932391 -1.609138 -0.200545   \n",
       "pop.00009.au  61.242109  ... -0.518891  0.212918 -1.294660 -0.105626   \n",
       "pop.00078.au  62.799474  ...  3.020176 -1.242321 -3.524069 -0.325165   \n",
       "pop.00037.au  64.495215  ...  1.753352  3.336132  2.352307  1.428845   \n",
       "\n",
       "                mfcc16    mfcc17    mfcc18    mfcc19    mfcc20  label  \n",
       "filename                                                               \n",
       "pop.00024.au  0.076505 -1.270496  1.233082  1.493700  0.949931      1  \n",
       "pop.00099.au -2.429376  1.207988  5.848729  1.609469  7.580263      1  \n",
       "pop.00009.au -1.245879 -2.528455  0.571032  1.569434 -1.724873      1  \n",
       "pop.00078.au -1.443294 -1.864617 -0.031307 -0.729631 -0.987611      1  \n",
       "pop.00037.au -0.604926 -2.185691 -1.602394 -0.612146 -4.050126      1  \n",
       "\n",
       "[5 rows x 29 columns]"
      ]
     },
     "execution_count": 2,
     "metadata": {},
     "output_type": "execute_result"
    }
   ],
   "source": [
    "binary_df = pd.read_csv(\"musicfeatures/data_2genre.csv\", index_col=\"filename\")\n",
    "print(binary_df.shape)\n",
    "binary_df.head()"
   ]
  },
  {
   "cell_type": "code",
   "execution_count": 3,
   "metadata": {},
   "outputs": [],
   "source": [
    "# binary_df.dtypes"
   ]
  },
  {
   "cell_type": "code",
   "execution_count": 4,
   "metadata": {},
   "outputs": [
    {
     "data": {
      "image/png": "[encoded data removed]",
      "text/plain": [
       "<Figure size 864x288 with 3 Axes>"
      ]
     },
     "metadata": {
      "needs_background": "light"
     },
     "output_type": "display_data"
    }
   ],
   "source": [
    "fig, ax =plt.subplots(1,3, figsize=(12,4))\n",
    "binary_df[\"label\"].value_counts().plot.pie(ax = ax[0])\n",
    "sns.distplot(binary_df[\"tempo\"], ax=ax[1])\n",
    "sns.distplot(binary_df[\"mfcc1\"], ax=ax[2])\n",
    "plt.tight_layout()"
   ]
  },
  {
   "cell_type": "markdown",
   "metadata": {},
   "source": [
    "Notes:\n",
    "- Dataset is balanced\n",
    "- Data will probably need to be normalized"
   ]
  },
  {
   "cell_type": "code",
   "execution_count": 5,
   "metadata": {},
   "outputs": [
    {
     "data": {
      "image/png": "[encoded data removed]",
      "text/plain": [
       "<Figure size 1440x1080 with 30 Axes>"
      ]
     },
     "metadata": {
      "needs_background": "light"
     },
     "output_type": "display_data"
    }
   ],
   "source": [
    "binary_df.hist(bins=30, figsize=(20,15))\n",
    "plt.show()"
   ]
  },
  {
   "cell_type": "code",
   "execution_count": 6,
   "metadata": {},
   "outputs": [],
   "source": [
    "# Let's \n",
    "## - define X and y\n",
    "## - split the dataset between train and test\n",
    "\n",
    "X = binary_df.drop([\"label\"], axis=\"columns\")\n",
    "y = binary_df[\"label\"]\n",
    "\n",
    "from sklearn.model_selection import train_test_split\n",
    "X_train, X_valid, y_train, y_valid = train_test_split(X, y, test_size=0.3, random_state=1)"
   ]
  },
  {
   "cell_type": "code",
   "execution_count": 7,
   "metadata": {},
   "outputs": [
    {
     "data": {
      "text/plain": [
       "SVC(C=1.0, cache_size=200, class_weight=None, coef0=0.0,\n",
       "    decision_function_shape='ovr', degree=3, gamma='auto_deprecated',\n",
       "    kernel='linear', max_iter=-1, probability=False, random_state=1,\n",
       "    shrinking=True, tol=0.001, verbose=False)"
      ]
     },
     "execution_count": 7,
     "metadata": {},
     "output_type": "execute_result"
    }
   ],
   "source": [
    "# Let's now instantiate an SVM model and fit it\n",
    "\n",
    "from sklearn import svm\n",
    "from sklearn.metrics import accuracy_score\n",
    "\n",
    "classifier = svm.SVC(kernel=\"linear\", random_state=1)\n",
    "classifier.fit(X_train, y_train)"
   ]
  },
  {
   "cell_type": "code",
   "execution_count": 8,
   "metadata": {},
   "outputs": [
    {
     "name": "stdout",
     "output_type": "stream",
     "text": [
      "Accuracy on training set: 1.00\n",
      "Accuracy on validation set: 0.98\n"
     ]
    }
   ],
   "source": [
    "# perfs\n",
    "train_preds = classifier.predict(X_train)\n",
    "train_acc = accuracy_score(train_preds, y_train)\n",
    "print(\"Accuracy on training set: %0.2f\" % (train_acc))\n",
    "\n",
    "valid_preds = classifier.predict(X_valid)\n",
    "valid_acc = accuracy_score(valid_preds, y_valid)\n",
    "print(\"Accuracy on validation set: %0.2f\" % (valid_acc))"
   ]
  },
  {
   "cell_type": "markdown",
   "metadata": {},
   "source": [
    "Almost perfect precision ! Let's see if it works as well on a 10-class dataset."
   ]
  },
  {
   "cell_type": "markdown",
   "metadata": {},
   "source": [
    "# Multiclass"
   ]
  },
  {
   "cell_type": "code",
   "execution_count": 9,
   "metadata": {},
   "outputs": [
    {
     "data": {
      "text/html": [
       "<div>\n",
       "<style scoped>\n",
       "    .dataframe tbody tr th:only-of-type {\n",
       "        vertical-align: middle;\n",
       "    }\n",
       "\n",
       "    .dataframe tbody tr th {\n",
       "        vertical-align: top;\n",
       "    }\n",
       "\n",
       "    .dataframe thead th {\n",
       "        text-align: right;\n",
       "    }\n",
       "</style>\n",
       "<table border=\"1\" class=\"dataframe\">\n",
       "  <thead>\n",
       "    <tr style=\"text-align: right;\">\n",
       "      <th></th>\n",
       "      <th>tempo</th>\n",
       "      <th>beats</th>\n",
       "      <th>chroma_stft</th>\n",
       "      <th>rmse</th>\n",
       "      <th>spectral_centroid</th>\n",
       "      <th>spectral_bandwidth</th>\n",
       "      <th>rolloff</th>\n",
       "      <th>zero_crossing_rate</th>\n",
       "      <th>mfcc1</th>\n",
       "      <th>mfcc2</th>\n",
       "      <th>...</th>\n",
       "      <th>mfcc12</th>\n",
       "      <th>mfcc13</th>\n",
       "      <th>mfcc14</th>\n",
       "      <th>mfcc15</th>\n",
       "      <th>mfcc16</th>\n",
       "      <th>mfcc17</th>\n",
       "      <th>mfcc18</th>\n",
       "      <th>mfcc19</th>\n",
       "      <th>mfcc20</th>\n",
       "      <th>label</th>\n",
       "    </tr>\n",
       "    <tr>\n",
       "      <th>filename</th>\n",
       "      <th></th>\n",
       "      <th></th>\n",
       "      <th></th>\n",
       "      <th></th>\n",
       "      <th></th>\n",
       "      <th></th>\n",
       "      <th></th>\n",
       "      <th></th>\n",
       "      <th></th>\n",
       "      <th></th>\n",
       "      <th></th>\n",
       "      <th></th>\n",
       "      <th></th>\n",
       "      <th></th>\n",
       "      <th></th>\n",
       "      <th></th>\n",
       "      <th></th>\n",
       "      <th></th>\n",
       "      <th></th>\n",
       "      <th></th>\n",
       "      <th></th>\n",
       "    </tr>\n",
       "  </thead>\n",
       "  <tbody>\n",
       "    <tr>\n",
       "      <th>blues.00081.au</th>\n",
       "      <td>103.359375</td>\n",
       "      <td>50</td>\n",
       "      <td>0.380260</td>\n",
       "      <td>0.248262</td>\n",
       "      <td>2116.942959</td>\n",
       "      <td>1956.611056</td>\n",
       "      <td>4196.107960</td>\n",
       "      <td>0.127272</td>\n",
       "      <td>-26.929785</td>\n",
       "      <td>107.334008</td>\n",
       "      <td>...</td>\n",
       "      <td>14.336612</td>\n",
       "      <td>-13.821769</td>\n",
       "      <td>7.562789</td>\n",
       "      <td>-6.181372</td>\n",
       "      <td>0.330165</td>\n",
       "      <td>-6.829571</td>\n",
       "      <td>0.965922</td>\n",
       "      <td>-7.570825</td>\n",
       "      <td>2.918987</td>\n",
       "      <td>blues</td>\n",
       "    </tr>\n",
       "    <tr>\n",
       "      <th>blues.00022.au</th>\n",
       "      <td>95.703125</td>\n",
       "      <td>44</td>\n",
       "      <td>0.306451</td>\n",
       "      <td>0.113475</td>\n",
       "      <td>1156.070496</td>\n",
       "      <td>1497.668176</td>\n",
       "      <td>2170.053545</td>\n",
       "      <td>0.058613</td>\n",
       "      <td>-233.860772</td>\n",
       "      <td>136.170239</td>\n",
       "      <td>...</td>\n",
       "      <td>-2.250578</td>\n",
       "      <td>3.959198</td>\n",
       "      <td>5.322555</td>\n",
       "      <td>0.812028</td>\n",
       "      <td>-1.107202</td>\n",
       "      <td>-4.556555</td>\n",
       "      <td>-2.436490</td>\n",
       "      <td>3.316913</td>\n",
       "      <td>-0.608485</td>\n",
       "      <td>blues</td>\n",
       "    </tr>\n",
       "    <tr>\n",
       "      <th>blues.00031.au</th>\n",
       "      <td>151.999081</td>\n",
       "      <td>75</td>\n",
       "      <td>0.253487</td>\n",
       "      <td>0.151571</td>\n",
       "      <td>1331.073970</td>\n",
       "      <td>1973.643437</td>\n",
       "      <td>2900.174130</td>\n",
       "      <td>0.042967</td>\n",
       "      <td>-221.802549</td>\n",
       "      <td>110.843070</td>\n",
       "      <td>...</td>\n",
       "      <td>-13.037723</td>\n",
       "      <td>-12.652228</td>\n",
       "      <td>-1.821905</td>\n",
       "      <td>-7.260097</td>\n",
       "      <td>-6.660252</td>\n",
       "      <td>-14.682694</td>\n",
       "      <td>-11.719264</td>\n",
       "      <td>-11.025216</td>\n",
       "      <td>-13.387260</td>\n",
       "      <td>blues</td>\n",
       "    </tr>\n",
       "  </tbody>\n",
       "</table>\n",
       "<p>3 rows × 29 columns</p>\n",
       "</div>"
      ],
      "text/plain": [
       "                     tempo  beats  chroma_stft      rmse  spectral_centroid  \\\n",
       "filename                                                                      \n",
       "blues.00081.au  103.359375     50     0.380260  0.248262        2116.942959   \n",
       "blues.00022.au   95.703125     44     0.306451  0.113475        1156.070496   \n",
       "blues.00031.au  151.999081     75     0.253487  0.151571        1331.073970   \n",
       "\n",
       "                spectral_bandwidth      rolloff  zero_crossing_rate  \\\n",
       "filename                                                              \n",
       "blues.00081.au         1956.611056  4196.107960            0.127272   \n",
       "blues.00022.au         1497.668176  2170.053545            0.058613   \n",
       "blues.00031.au         1973.643437  2900.174130            0.042967   \n",
       "\n",
       "                     mfcc1       mfcc2  ...     mfcc12     mfcc13    mfcc14  \\\n",
       "filename                                ...                                   \n",
       "blues.00081.au  -26.929785  107.334008  ...  14.336612 -13.821769  7.562789   \n",
       "blues.00022.au -233.860772  136.170239  ...  -2.250578   3.959198  5.322555   \n",
       "blues.00031.au -221.802549  110.843070  ... -13.037723 -12.652228 -1.821905   \n",
       "\n",
       "                  mfcc15    mfcc16     mfcc17     mfcc18     mfcc19  \\\n",
       "filename                                                              \n",
       "blues.00081.au -6.181372  0.330165  -6.829571   0.965922  -7.570825   \n",
       "blues.00022.au  0.812028 -1.107202  -4.556555  -2.436490   3.316913   \n",
       "blues.00031.au -7.260097 -6.660252 -14.682694 -11.719264 -11.025216   \n",
       "\n",
       "                   mfcc20  label  \n",
       "filename                          \n",
       "blues.00081.au   2.918987  blues  \n",
       "blues.00022.au  -0.608485  blues  \n",
       "blues.00031.au -13.387260  blues  \n",
       "\n",
       "[3 rows x 29 columns]"
      ]
     },
     "execution_count": 9,
     "metadata": {},
     "output_type": "execute_result"
    }
   ],
   "source": [
    "df = pd.read_csv(\"musicfeatures/data.csv\", index_col=\"filename\")\n",
    "# print(raw_df.dtypes)\n",
    "df.head(3)"
   ]
  },
  {
   "cell_type": "markdown",
   "metadata": {},
   "source": [
    "Let's notice that the labels, this time, are **strings**."
   ]
  },
  {
   "cell_type": "code",
   "execution_count": 10,
   "metadata": {
    "scrolled": true
   },
   "outputs": [
    {
     "data": {
      "image/png": "[encoded data removed]",
      "text/plain": [
       "<Figure size 432x288 with 1 Axes>"
      ]
     },
     "metadata": {},
     "output_type": "display_data"
    }
   ],
   "source": [
    "df[\"label\"].value_counts().plot.pie();"
   ]
  },
  {
   "cell_type": "code",
   "execution_count": 11,
   "metadata": {},
   "outputs": [],
   "source": [
    "X = df.drop([\"label\"], axis=\"columns\")\n",
    "y = df[\"label\"]\n",
    "\n",
    "# Normalize numerical inputs\n",
    "from sklearn.preprocessing import StandardScaler\n",
    "scaler = StandardScaler()\n",
    "X = scaler.fit_transform(X)\n",
    "\n",
    "X_train, X_valid, y_train, y_valid = train_test_split(X, y, test_size=0.3)"
   ]
  },
  {
   "cell_type": "code",
   "execution_count": 12,
   "metadata": {},
   "outputs": [
    {
     "name": "stdout",
     "output_type": "stream",
     "text": [
      "Accuracy on training set: 0.80\n",
      "Accuracy on validation set: 0.63\n"
     ]
    }
   ],
   "source": [
    "clf = svm.SVC(kernel=\"linear\")\n",
    "clf.fit(X_train, y_train)\n",
    "\n",
    "# perfs\n",
    "train_preds = clf.predict(X_train)\n",
    "train_acc = accuracy_score(train_preds, y_train)\n",
    "print(\"Accuracy on training set: %0.2f\" % (train_acc))\n",
    "\n",
    "valid_preds = clf.predict(X_valid)\n",
    "valid_acc = accuracy_score(valid_preds, y_valid)\n",
    "print(\"Accuracy on validation set: %0.2f\" % (valid_acc))"
   ]
  }
 ],
 "metadata": {
  "kernelspec": {
   "display_name": "Python 3",
   "language": "python",
   "name": "python3"
  },
  "language_info": {
   "codemirror_mode": {
    "name": "ipython",
    "version": 3
   },
   "file_extension": ".py",
   "mimetype": "text/x-python",
   "name": "python",
   "nbconvert_exporter": "python",
   "pygments_lexer": "ipython3",
   "version": "3.7.3"
  }
 },
 "nbformat": 4,
 "nbformat_minor": 4
}
