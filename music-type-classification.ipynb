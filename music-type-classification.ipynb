{
 "cells": [
  {
   "cell_type": "markdown",
   "metadata": {},
   "source": [
    "# Music type recognition"
   ]
  },
  {
   "cell_type": "markdown",
   "metadata": {},
   "source": [
    "In this notebook, we will use the [Music Beat](https://www.kaggle.com/insiyeah/musicfeatures) data set to experiment with the Support Vector Machine classification algorithm."
   ]
  },
  {
   "cell_type": "code",
   "execution_count": null,
   "metadata": {},
   "outputs": [],
   "source": [
    "# boilerplate imports\n",
    "\n",
    "# data exploration\n",
    "import pandas as pd\n",
    "import numpy as np\n",
    "# visualization\n",
    "import matplotlib.pyplot as plt\n",
    "import seaborn as sns\n",
    "%matplotlib inline "
   ]
  },
  {
   "cell_type": "markdown",
   "metadata": {},
   "source": [
    "**Important**\n",
    "\n",
    "There are 2 datasets:\n",
    "- The first is for binary classification\n",
    "- The second is for multiclass classification (10 classes)."
   ]
  },
  {
   "cell_type": "markdown",
   "metadata": {},
   "source": [
    "# Binary classification"
   ]
  },
  {
   "cell_type": "code",
   "execution_count": null,
   "metadata": {},
   "outputs": [],
   "source": [
    "binary_df = pd.read_csv(\"musicfeatures/data_2genre.csv\", index_col=\"filename\")\n",
    "print(binary_df.shape)\n",
    "binary_df.head()"
   ]
  },
  {
   "cell_type": "code",
   "execution_count": null,
   "metadata": {},
   "outputs": [],
   "source": [
    "# binary_df.dtypes"
   ]
  },
  {
   "cell_type": "code",
   "execution_count": null,
   "metadata": {},
   "outputs": [],
   "source": [
    "fig, ax =plt.subplots(1,3, figsize=(12,4))\n",
    "sns.distplot(binary_df[\"label\"], kde=False, ax=ax[0])\n",
    "sns.distplot(binary_df[\"tempo\"], ax=ax[1])\n",
    "sns.distplot(binary_df[\"mfcc1\"], ax=ax[2])\n",
    "plt.tight_layout()"
   ]
  },
  {
   "cell_type": "markdown",
   "metadata": {},
   "source": [
    "Notes:\n",
    "- Dataset is balanced\n",
    "- Data will probably need to be normalized"
   ]
  },
  {
   "cell_type": "code",
   "execution_count": null,
   "metadata": {},
   "outputs": [],
   "source": [
    "# Let's \n",
    "## - define X and y\n",
    "## - split the dataset between train and test\n",
    "\n",
    "X = binary_df.drop([\"label\"], axis=\"columns\")\n",
    "y = binary_df[\"label\"]\n",
    "\n",
    "from sklearn.model_selection import train_test_split\n",
    "X_train, X_valid, y_train, y_valid = train_test_split(X, y, test_size=0.3, stratify=binary_df[\"label\"])"
   ]
  },
  {
   "cell_type": "code",
   "execution_count": null,
   "metadata": {},
   "outputs": [],
   "source": [
    "# Let's now instantiate an SVM model and fit it\n",
    "\n",
    "from sklearn import svm\n",
    "from sklearn.metrics import accuracy_score\n",
    "\n",
    "classifier = svm.SVC(kernel=\"linear\", random_state=1)\n",
    "classifier.fit(X_train, y_train)"
   ]
  },
  {
   "cell_type": "code",
   "execution_count": null,
   "metadata": {},
   "outputs": [],
   "source": [
    "# perfs\n",
    "train_preds = classifier.predict(X_train)\n",
    "train_acc = accuracy_score(train_preds, y_train)\n",
    "print(\"Train accuracy\", train_acc)\n",
    "\n",
    "valid_preds = classifier.predict(X_valid)\n",
    "valid_acc = accuracy_score(valid_preds, y_valid)\n",
    "print(\"Valid accuracy\", valid_acc)"
   ]
  },
  {
   "cell_type": "markdown",
   "metadata": {},
   "source": [
    "# Multiclass"
   ]
  },
  {
   "cell_type": "code",
   "execution_count": null,
   "metadata": {},
   "outputs": [],
   "source": [
    "df = pd.read_csv(\"musicfeatures/data.csv\", index_col=\"filename\")\n",
    "# print(raw_df.dtypes)\n",
    "df.head(3)"
   ]
  },
  {
   "cell_type": "markdown",
   "metadata": {},
   "source": [
    "Let's notice that the labels, this time, are **strings**."
   ]
  },
  {
   "cell_type": "code",
   "execution_count": 9,
   "metadata": {},
   "outputs": [
    {
     "data": {
      "image/png": "[encoded data removed]",
      "text/plain": [
       "<Figure size 288x288 with 1 Axes>"
      ]
     },
     "metadata": {
      "needs_background": "light"
     },
     "output_type": "display_data"
    }
   ],
   "source": [
    "plt.figure(figsize=(4,4))\n",
    "sns.countplot(df[\"label\"]);"
   ]
  },
  {
   "cell_type": "code",
   "execution_count": 14,
   "metadata": {},
   "outputs": [],
   "source": [
    "X = df.drop([\"label\"], axis=\"columns\")\n",
    "y = df[\"label\"]\n",
    "\n",
    "# Normalize numerical inputs\n",
    "from sklearn.preprocessing import StandardScaler\n",
    "scaler = StandardScaler()\n",
    "X = scaler.fit_transform(X)\n",
    "\n",
    "X_train, X_valid, y_train, y_valid = train_test_split(X, y, test_size=0.3)"
   ]
  },
  {
   "cell_type": "code",
   "execution_count": 28,
   "metadata": {},
   "outputs": [
    {
     "name": "stdout",
     "output_type": "stream",
     "text": [
      "Accuracy on training set: 0.7857142857142857\n",
      "Accuracy on validation set: 0.63\n"
     ]
    }
   ],
   "source": [
    "clf = svm.SVC(kernel=\"linear\")\n",
    "clf.fit(X_train, y_train)\n",
    "\n",
    "# perfs\n",
    "\n",
    "train_preds = clf.predict(X_train)\n",
    "train_acc = accuracy_score(train_preds, y_train)\n",
    "print(\"Accuracy on training set:\", train_acc)\n",
    "\n",
    "valid_preds = clf.predict(X_valid)\n",
    "valid_acc = accuracy_score(valid_preds, y_valid)\n",
    "print(\"Accuracy on validation set:\", valid_acc)"
   ]
  },
  {
   "cell_type": "code",
   "execution_count": null,
   "metadata": {},
   "outputs": [],
   "source": []
  }
 ],
 "metadata": {
  "kernelspec": {
   "display_name": "Python 3",
   "language": "python",
   "name": "python3"
  },
  "language_info": {
   "codemirror_mode": {
    "name": "ipython",
    "version": 3
   },
   "file_extension": ".py",
   "mimetype": "text/x-python",
   "name": "python",
   "nbconvert_exporter": "python",
   "pygments_lexer": "ipython3",
   "version": "3.7.3"
  }
 },
 "nbformat": 4,
 "nbformat_minor": 4
}
